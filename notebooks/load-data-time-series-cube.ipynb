{
 "cells": [
  {
   "cell_type": "markdown",
   "id": "rapid-receipt",
   "metadata": {},
   "source": [
    "# Direct S3 Data Access - Rough PODAAC ECCO SSH Example"
   ]
  },
  {
   "cell_type": "markdown",
   "id": "selective-denial",
   "metadata": {},
   "source": [
    "---"
   ]
  },
  {
   "cell_type": "markdown",
   "id": "outstanding-substance",
   "metadata": {},
   "source": [
    "### Import Required Packages"
   ]
  },
  {
   "cell_type": "code",
   "execution_count": null,
   "id": "bigger-pastor",
   "metadata": {},
   "outputs": [],
   "source": [
    "%matplotlib inline\n",
    "import matplotlib.pyplot as plt\n",
    "from datetime import datetime\n",
    "import os\n",
    "import subprocess\n",
    "import requests\n",
    "import boto3\n",
    "import s3fs\n",
    "import pandas as pd\n",
    "import numpy as np\n",
    "import xarray as xr\n",
    "import rasterio as rio\n",
    "from rasterio.session import AWSSession\n",
    "from rasterio.plot import show\n",
    "import rioxarray\n",
    "import geopandas\n",
    "import pyproj\n",
    "from pyproj import Proj\n",
    "from shapely.ops import transform\n",
    "import geoviews as gv\n",
    "from cartopy import crs\n",
    "import hvplot.xarray\n",
    "import holoviews as hv\n",
    "gv.extension('bokeh', 'matplotlib')"
   ]
  },
  {
   "cell_type": "code",
   "execution_count": null,
   "id": "adjacent-consent",
   "metadata": {},
   "outputs": [],
   "source": [
    "from pystac_client import Client"
   ]
  },
  {
   "cell_type": "code",
   "execution_count": null,
   "id": "foster-bridal",
   "metadata": {},
   "outputs": [],
   "source": [
    "s3_cred_endpoint = {\n",
    "    'podaac':'https://archive.podaac.earthdata.nasa.gov/s3credentials',\n",
    "    'lpdaac':'https://data.lpdaac.earthdatacloud.nasa.gov/s3credentials'\n",
    "}"
   ]
  },
  {
   "cell_type": "code",
   "execution_count": null,
   "id": "sublime-atlas",
   "metadata": {},
   "outputs": [],
   "source": [
    "def get_temp_creds():\n",
    "    temp_creds_url = s3_cred_endpoint['podaac']\n",
    "    return requests.get(temp_creds_url).json()"
   ]
  },
  {
   "cell_type": "code",
   "execution_count": null,
   "id": "hungarian-certificate",
   "metadata": {},
   "outputs": [],
   "source": [
    "temp_creds_req = get_temp_creds()"
   ]
  },
  {
   "cell_type": "code",
   "execution_count": null,
   "id": "christian-criterion",
   "metadata": {},
   "outputs": [],
   "source": [
    "session = boto3.Session(aws_access_key_id=temp_creds_req['accessKeyId'], \n",
    "                        aws_secret_access_key=temp_creds_req['secretAccessKey'],\n",
    "                        aws_session_token=temp_creds_req['sessionToken'],\n",
    "                        region_name='us-west-2')"
   ]
  },
  {
   "cell_type": "code",
   "execution_count": null,
   "id": "indian-netscape",
   "metadata": {},
   "outputs": [],
   "source": [
    "rio_env = rio.Env(AWSSession(session),\n",
    "                  GDAL_DISABLE_READDIR_ON_OPEN='EMPTY_DIR',\n",
    "                  GDAL_HTTP_COOKIEFILE=os.path.expanduser('~/cookies.txt'),\n",
    "                  GDAL_HTTP_COOKIEJAR=os.path.expanduser('~/cookies.txt'))\n",
    "rio_env.__enter__()"
   ]
  },
  {
   "cell_type": "code",
   "execution_count": null,
   "id": "olive-warner",
   "metadata": {},
   "outputs": [],
   "source": [
    "podaac_cat = Client.open('https://cmr.earthdata.nasa.gov/stac/POCLOUD/')"
   ]
  },
  {
   "cell_type": "code",
   "execution_count": null,
   "id": "undefined-magnet",
   "metadata": {},
   "outputs": [],
   "source": [
    "search = podaac_cat.search(\n",
    "    collections=['AVHRR_OI-NCEI-L4-GLOB-v2.1'],\n",
    "    datetime='2016/2018'\n",
    ")"
   ]
  },
  {
   "cell_type": "code",
   "execution_count": null,
   "id": "ideal-giving",
   "metadata": {},
   "outputs": [],
   "source": [
    "search.matched()"
   ]
  },
  {
   "cell_type": "code",
   "execution_count": null,
   "id": "solid-arthritis",
   "metadata": {
    "tags": []
   },
   "outputs": [],
   "source": [
    "items = search.get_all_items()\n",
    "list(items)"
   ]
  },
  {
   "cell_type": "code",
   "execution_count": null,
   "id": "fourth-delivery",
   "metadata": {},
   "outputs": [],
   "source": [
    "sst_https = items[1].get_assets()['data'].href\n",
    "sst_https[:10]"
   ]
  },
  {
   "cell_type": "code",
   "execution_count": null,
   "id": "celtic-choice",
   "metadata": {},
   "outputs": [],
   "source": [
    "sst_s3 = sst_https.replace('https://archive.podaac.earthdata.nasa.gov/', 's3://')\n",
    "sst_s3"
   ]
  },
  {
   "cell_type": "markdown",
   "id": "71d253a4-075c-47a6-976b-3634b672b585",
   "metadata": {},
   "source": [
    "## Single file in-region direct S3 access of netcdf file"
   ]
  },
  {
   "cell_type": "code",
   "execution_count": null,
   "id": "5688ebd6-6246-4e31-9648-70ea8c5665f6",
   "metadata": {},
   "outputs": [],
   "source": [
    "fs_s3 = s3fs.S3FileSystem(anon=False, key=temp_creds_req['accessKeyId'], secret=temp_creds_req['secretAccessKey'], token=temp_creds_req['sessionToken'])"
   ]
  },
  {
   "cell_type": "code",
   "execution_count": null,
   "id": "c720274f-0667-4c46-9a90-db7d12f2379a",
   "metadata": {},
   "outputs": [],
   "source": [
    "s3_file_obj = fs_s3.open(sst_s3, mode='rb')"
   ]
  },
  {
   "cell_type": "code",
   "execution_count": null,
   "id": "6417af69-82fd-4b16-9f57-9b7b909ea812",
   "metadata": {},
   "outputs": [],
   "source": [
    "sst_xr = xr.open_dataset(s3_file_obj, engine='h5netcdf')\n",
    "sst_xr"
   ]
  },
  {
   "cell_type": "markdown",
   "id": "41fab9a5-e03c-4911-a718-b921b0ead1a3",
   "metadata": {},
   "source": [
    "## Multi-file in-region direct S3 access of netcdf files"
   ]
  },
  {
   "cell_type": "code",
   "execution_count": null,
   "id": "936d6e77-d5e8-4ba0-816a-2d592098179b",
   "metadata": {
    "tags": []
   },
   "outputs": [],
   "source": [
    "sst_https_urls = [x.get_assets()['data'].href for x in items]\n",
    "sst_https_urls[:10]"
   ]
  },
  {
   "cell_type": "code",
   "execution_count": null,
   "id": "ad727a1d-dcd7-44f4-b11d-0ebeafd5d587",
   "metadata": {
    "tags": []
   },
   "outputs": [],
   "source": [
    "sst_s3_urls = [x.replace('https://archive.podaac.earthdata.nasa.gov/', 's3://') for x in sst_https_urls]\n",
    "sst_s3_urls[:10]"
   ]
  },
  {
   "cell_type": "code",
   "execution_count": null,
   "id": "92c4a826-73ae-464e-a810-ae74f66f6e4a",
   "metadata": {},
   "outputs": [],
   "source": [
    "# Iterate through remote_files to create a fileset\n",
    "fileset = [fs_s3.open(file) for file in sst_s3_urls]"
   ]
  },
  {
   "cell_type": "code",
   "execution_count": null,
   "id": "650dd111-8d08-45cf-be18-23dad0bb0a09",
   "metadata": {},
   "outputs": [],
   "source": [
    "# This works\n",
    "sst_xr_ts = xr.open_mfdataset(fileset, engine='h5netcdf', chunks= {'time':1096, 'lat':100, 'lon':100})"
   ]
  },
  {
   "cell_type": "code",
   "execution_count": null,
   "id": "fc2b2730-3922-4412-9c21-c0880bf59800",
   "metadata": {
    "tags": []
   },
   "outputs": [],
   "source": [
    "sst_xr_ts"
   ]
  },
  {
   "cell_type": "code",
   "execution_count": null,
   "id": "df8f6a5e-d20e-4db8-a597-2ef935a53303",
   "metadata": {},
   "outputs": [],
   "source": [
    "#sst_xr_ts.analysed_sst.hvplot.image()"
   ]
  },
  {
   "cell_type": "markdown",
   "id": "monthly-diana",
   "metadata": {},
   "source": [
    "---"
   ]
  },
  {
   "cell_type": "markdown",
   "id": "24c30898-c5a6-431b-b572-84889e8e277d",
   "metadata": {},
   "source": [
    "Read in point locations"
   ]
  },
  {
   "cell_type": "code",
   "execution_count": null,
   "id": "5029a958-8fb8-4baa-a802-8c4b5ff19ea8",
   "metadata": {},
   "outputs": [],
   "source": [
    "import pandas as pd"
   ]
  },
  {
   "cell_type": "code",
   "execution_count": null,
   "id": "b8ee77e5-253e-4332-a295-9328a001ce4e",
   "metadata": {},
   "outputs": [],
   "source": [
    "df = pd.read_csv('../data/sample_point_pairs_trim.csv')"
   ]
  },
  {
   "cell_type": "code",
   "execution_count": null,
   "id": "93ebe44e-0fc1-412d-958a-ae596c5ac33e",
   "metadata": {},
   "outputs": [],
   "source": [
    "df.head()"
   ]
  },
  {
   "cell_type": "code",
   "execution_count": null,
   "id": "9f97d649-52ee-4514-91ce-859b8a6bec40",
   "metadata": {},
   "outputs": [],
   "source": [
    "def getdf2_ns(ras, pts):\n",
    "    ind_x = xr.DataArray(df[\"lon.ns\"], dims=['i'])\n",
    "    ind_y = xr.DataArray(df[\"lat.ns\"], dims=['i'])\n",
    "    xr_new = ras.analysed_sst.sel(lon=ind_x, lat=ind_y, method='nearest')\n",
    "    #ind_x = xr.DataArray(df[\"lon.os\"], dims=['i'])\n",
    "    #ind_y = xr.DataArray(df[\"lat.os\"], dims=['i'])\n",
    "    #xr_new = np.vstack((xr_new, ras.analysed_sst.sel(lon=ind_x, lat=ind_y, method='nearest').values))\n",
    "    return xr_new"
   ]
  },
  {
   "cell_type": "code",
   "execution_count": null,
   "id": "44797b2d-43d3-452e-8d08-8cb3f15d17a3",
   "metadata": {},
   "outputs": [],
   "source": [
    "def getdf2_os(ras, pts):\n",
    "    #ind_x = xr.DataArray(df[\"lon.ns\"], dims=['i'])\n",
    "    #ind_y = xr.DataArray(df[\"lat.ns\"], dims=['i'])\n",
    "    ind_x = xr.DataArray(df[\"lon.os\"], dims=['i'])\n",
    "    ind_y = xr.DataArray(df[\"lat.os\"], dims=['i'])\n",
    "    xr_new = ras.analysed_sst.sel(lon=ind_x, lat=ind_y, method='nearest')\n",
    "    #xr_new = np.vstack((xr_new, ras.analysed_sst.sel(lon=ind_x, lat=ind_y, method='nearest').values))\n",
    "    return xr_new"
   ]
  },
  {
   "cell_type": "code",
   "execution_count": null,
   "id": "a5ae8910-760a-49a2-ab76-7420feb72949",
   "metadata": {},
   "outputs": [],
   "source": [
    "#sst_sel = getdf2(sst_xr_ts.isel(time=slice(0,10)), df)"
   ]
  },
  {
   "cell_type": "code",
   "execution_count": null,
   "id": "c88559b1-578c-427e-ac4f-c679853b08f3",
   "metadata": {},
   "outputs": [],
   "source": [
    "sst_ns = getdf2_ns(sst_xr_ts, df)"
   ]
  },
  {
   "cell_type": "code",
   "execution_count": null,
   "id": "67c3b00a-08c0-46dd-a818-226008911542",
   "metadata": {},
   "outputs": [],
   "source": [
    "sst_ns"
   ]
  },
  {
   "cell_type": "code",
   "execution_count": null,
   "id": "4c6e325d-5f02-4e6f-b8e5-e18d1d309253",
   "metadata": {},
   "outputs": [],
   "source": [
    "sst_os = getdf2_os(sst_xr_ts, df)"
   ]
  },
  {
   "cell_type": "code",
   "execution_count": null,
   "id": "3e30542f-2ad3-40b2-bc86-ca959b03b1dd",
   "metadata": {
    "tags": []
   },
   "outputs": [],
   "source": [
    "sst_os"
   ]
  },
  {
   "cell_type": "code",
   "execution_count": null,
   "id": "03d8ff86-41b5-4b8f-95d1-0eeb8e1b2c2a",
   "metadata": {},
   "outputs": [],
   "source": [
    "sst_dif = sst_os - sst_ns"
   ]
  },
  {
   "cell_type": "code",
   "execution_count": null,
   "id": "f0ab9dce-04b9-4c85-83c2-6cfa02452faf",
   "metadata": {},
   "outputs": [],
   "source": [
    "sst_dif"
   ]
  },
  {
   "cell_type": "code",
   "execution_count": null,
   "id": "4dc05d09-598d-4f5d-bef8-95b79d7b62d3",
   "metadata": {},
   "outputs": [],
   "source": [
    "upwelling_index = xr.where(sst_dif > 2, 1, 0).compute()"
   ]
  },
  {
   "cell_type": "code",
   "execution_count": null,
   "id": "79d92174-ade7-4251-bb54-6c221ebbe59b",
   "metadata": {},
   "outputs": [],
   "source": [
    "upwelling_index"
   ]
  },
  {
   "cell_type": "code",
   "execution_count": null,
   "id": "bdc86d48-00aa-4a83-a88b-890c6c0a61eb",
   "metadata": {},
   "outputs": [],
   "source": [
    "upwelling_index.hvplot()"
   ]
  },
  {
   "cell_type": "code",
   "execution_count": null,
   "id": "be3c9ea4-fade-43e0-814e-8c28b954e75a",
   "metadata": {},
   "outputs": [],
   "source": []
  }
 ],
 "metadata": {
  "kernelspec": {
   "display_name": "Python 3 (ipykernel)",
   "language": "python",
   "name": "python3"
  },
  "language_info": {
   "codemirror_mode": {
    "name": "ipython",
    "version": 3
   },
   "file_extension": ".py",
   "mimetype": "text/x-python",
   "name": "python",
   "nbconvert_exporter": "python",
   "pygments_lexer": "ipython3",
   "version": "3.9.7"
  }
 },
 "nbformat": 4,
 "nbformat_minor": 5
}
